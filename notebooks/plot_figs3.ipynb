version https://git-lfs.github.com/spec/v1
oid sha256:ea1c748bcc447c94f15171913abd14e6848e3cfe2b37b3dc7b4a0160cbe8fdc6
size 1162
