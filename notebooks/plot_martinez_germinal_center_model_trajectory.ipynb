version https://git-lfs.github.com/spec/v1
oid sha256:04717f527d75bd26e4d9edbf8547b2a5b42def39ab3d12292a07a6836e16f46b
size 294527
