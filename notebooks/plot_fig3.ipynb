version https://git-lfs.github.com/spec/v1
oid sha256:5d39e5f276ff114458f5fdd298cf1af0626c4e05f1ae3722067ebb4ff402b5d3
size 3534365
