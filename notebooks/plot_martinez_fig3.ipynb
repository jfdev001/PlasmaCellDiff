version https://git-lfs.github.com/spec/v1
oid sha256:a6dbfe79cf2b92b8e6554dfcb1ec681086e0d8e2f7e18a2d4eca764d1104f8bb
size 665478
