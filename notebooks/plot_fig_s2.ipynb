version https://git-lfs.github.com/spec/v1
oid sha256:4b2ed5d72bc07c3b546d0cd8da7ad3e7f98fa455c2fc8d20db399bc36ab0c6d2
size 19026457
