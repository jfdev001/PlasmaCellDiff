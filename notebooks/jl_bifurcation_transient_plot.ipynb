version https://git-lfs.github.com/spec/v1
oid sha256:bc36e37f4f335f478f77fd0f5e8b84775f22ae1fe9e4c12c0d298286402379a1
size 34518
