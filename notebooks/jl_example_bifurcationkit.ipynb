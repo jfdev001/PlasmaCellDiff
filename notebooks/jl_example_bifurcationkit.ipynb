version https://git-lfs.github.com/spec/v1
oid sha256:d3a7c8b1e2a8b3a99a8542d5750c9d13ead3e980b1b0612ccb6c8671fda1f220
size 1134973
