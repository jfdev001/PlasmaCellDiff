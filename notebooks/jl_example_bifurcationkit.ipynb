version https://git-lfs.github.com/spec/v1
oid sha256:d6f3413ed94ff0ac7cb51153212e775a502062d6940bfe651b81dd81807af6b8
size 1029351
