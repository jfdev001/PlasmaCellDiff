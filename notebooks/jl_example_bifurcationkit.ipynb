version https://git-lfs.github.com/spec/v1
oid sha256:f361ecc2fdd41bc6b09873a52e4b5c7924f83df52d7a672bb2fc556aec627465
size 1133028
