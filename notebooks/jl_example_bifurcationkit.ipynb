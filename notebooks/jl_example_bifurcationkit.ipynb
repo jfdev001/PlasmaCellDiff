version https://git-lfs.github.com/spec/v1
oid sha256:e1aa57317943dc2ce2620e37589a7bbc4afc9de3769d85eeb1c19b53093f3cee
size 1028078
