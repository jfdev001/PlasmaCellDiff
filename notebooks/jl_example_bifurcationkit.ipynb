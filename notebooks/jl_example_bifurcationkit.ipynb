version https://git-lfs.github.com/spec/v1
oid sha256:c843dac24cdef849e4303e8e3d14b8c57983c623fae37b22eda4c80f4e676dda
size 186963
