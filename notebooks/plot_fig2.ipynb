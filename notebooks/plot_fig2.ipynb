version https://git-lfs.github.com/spec/v1
oid sha256:15107c34a04a2461cea9bdd83390f63333134da9df9366b5a0a8f6c132810911
size 141546
